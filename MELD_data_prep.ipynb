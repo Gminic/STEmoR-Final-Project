{
 "cells": [
  {
   "cell_type": "markdown",
   "metadata": {},
   "source": [
    "# Libraries"
   ]
  },
  {
   "cell_type": "code",
   "execution_count": 1,
   "metadata": {},
   "outputs": [],
   "source": [
    "import os\n",
    "import pandas as pd\n",
    "import glob"
   ]
  },
  {
   "cell_type": "code",
   "execution_count": 2,
   "metadata": {},
   "outputs": [],
   "source": [
    "# Folder path where the IEMOCAP is stored\n",
    "folder_path = r'Data/MELD/'"
   ]
  },
  {
   "cell_type": "markdown",
   "metadata": {},
   "source": [
    "# Get the MELD dataframes and analyse the values"
   ]
  },
  {
   "cell_type": "code",
   "execution_count": 14,
   "metadata": {},
   "outputs": [],
   "source": [
    "from os import path\n",
    "\n",
    "train_path = path.join(folder_path, 'csv/train_sent_emo.csv')\n",
    "dev_path = path.join(folder_path, 'csv/dev_sent_emo.csv')\n",
    "test_path = path.join(folder_path, 'csv/test_sent_emo.csv')\n",
    "\n",
    "# read the csv files\n",
    "train_df = pd.read_csv(train_path, encoding='utf-8')\n",
    "dev_df = pd.read_csv(dev_path, encoding='utf-8')\n",
    "test_df = pd.read_csv(test_path, encoding='utf-8')"
   ]
  },
  {
   "cell_type": "code",
   "execution_count": 15,
   "metadata": {},
   "outputs": [
    {
     "name": "stdout",
     "output_type": "stream",
     "text": [
      "Train:  9988\n",
      "Dev:  1108\n",
      "Test:  2610\n"
     ]
    }
   ],
   "source": [
    "# count rows in each dataset\n",
    "print('Train: ', len(train_df))\n",
    "print('Dev: ', len(dev_df))\n",
    "print('Test: ', len(test_df))"
   ]
  },
  {
   "cell_type": "code",
   "execution_count": 16,
   "metadata": {},
   "outputs": [],
   "source": [
    "def concat_dfs(train_df:pd.DataFrame, dev_df:pd.DataFrame, test_df:pd.DataFrame):\n",
    "    \"\"\"\n",
    "        Concatenate the train, dev and test dataframes\n",
    "        train_df: train dataframe\n",
    "        dev_df: dev dataframe\n",
    "        test_df: test dataframe\n",
    "        return: concatenated dataframe\n",
    "    \"\"\"\n",
    "    # Add a new column to differentiate between train, dev and test\n",
    "    train_df['Data'] = 'train'\n",
    "    dev_df['Data'] = 'dev'\n",
    "    test_df['Data'] = 'test'\n",
    "\n",
    "    # Concatenate the dataframes\n",
    "    df = pd.concat([train_df, dev_df, test_df], ignore_index=True)\n",
    "\n",
    "    return df"
   ]
  },
  {
   "cell_type": "code",
   "execution_count": 17,
   "metadata": {},
   "outputs": [],
   "source": [
    "def process_df(df:pd.DataFrame):\n",
    "    \"\"\"\n",
    "        Add the filepath to the video files to the dataframe\n",
    "        df: dataframe\n",
    "        return: dataframe with the filepath\n",
    "    \"\"\"\n",
    "    # Dataset name\n",
    "    df['dataset'] = 'MELD'\n",
    "\n",
    "    # create a new column that contains the dialogue id and utterance id\n",
    "    df['filename'] = df['Data'].astype(str) + '_dia' + df['Dialogue_ID'].astype(str) + '_utt' + df['Utterance_ID'].astype(str)\n",
    "\n",
    "    # Add the filepath to the video files to the dataframe using df['Data'] + '/' + df['filename'] + '.mp4'\n",
    "    df['filepath'] = folder_path + df['Data'] + '/mp4/' + df['filename'] + '.mp4'\n",
    "\n",
    "    return df"
   ]
  },
  {
   "cell_type": "code",
   "execution_count": 18,
   "metadata": {},
   "outputs": [],
   "source": [
    "# Concatenate the dataframes and add the filepath to the video files\n",
    "df = concat_dfs(train_df, dev_df, test_df)\n",
    "df = process_df(df)"
   ]
  },
  {
   "cell_type": "code",
   "execution_count": 19,
   "metadata": {},
   "outputs": [
    {
     "data": {
      "text/html": [
       "<div>\n",
       "<style scoped>\n",
       "    .dataframe tbody tr th:only-of-type {\n",
       "        vertical-align: middle;\n",
       "    }\n",
       "\n",
       "    .dataframe tbody tr th {\n",
       "        vertical-align: top;\n",
       "    }\n",
       "\n",
       "    .dataframe thead tr th {\n",
       "        text-align: left;\n",
       "    }\n",
       "\n",
       "    .dataframe thead tr:last-of-type th {\n",
       "        text-align: right;\n",
       "    }\n",
       "</style>\n",
       "<table border=\"1\" class=\"dataframe\">\n",
       "  <thead>\n",
       "    <tr>\n",
       "      <th></th>\n",
       "      <th colspan=\"4\" halign=\"left\">Sentiment</th>\n",
       "    </tr>\n",
       "    <tr>\n",
       "      <th>Data</th>\n",
       "      <th>dev</th>\n",
       "      <th>test</th>\n",
       "      <th>train</th>\n",
       "      <th>All</th>\n",
       "    </tr>\n",
       "    <tr>\n",
       "      <th>Emotion</th>\n",
       "      <th></th>\n",
       "      <th></th>\n",
       "      <th></th>\n",
       "      <th></th>\n",
       "    </tr>\n",
       "  </thead>\n",
       "  <tbody>\n",
       "    <tr>\n",
       "      <th>anger</th>\n",
       "      <td>153</td>\n",
       "      <td>345</td>\n",
       "      <td>1109</td>\n",
       "      <td>1607</td>\n",
       "    </tr>\n",
       "    <tr>\n",
       "      <th>disgust</th>\n",
       "      <td>22</td>\n",
       "      <td>68</td>\n",
       "      <td>271</td>\n",
       "      <td>361</td>\n",
       "    </tr>\n",
       "    <tr>\n",
       "      <th>fear</th>\n",
       "      <td>40</td>\n",
       "      <td>50</td>\n",
       "      <td>268</td>\n",
       "      <td>358</td>\n",
       "    </tr>\n",
       "    <tr>\n",
       "      <th>joy</th>\n",
       "      <td>163</td>\n",
       "      <td>402</td>\n",
       "      <td>1743</td>\n",
       "      <td>2308</td>\n",
       "    </tr>\n",
       "    <tr>\n",
       "      <th>neutral</th>\n",
       "      <td>469</td>\n",
       "      <td>1256</td>\n",
       "      <td>4709</td>\n",
       "      <td>6434</td>\n",
       "    </tr>\n",
       "    <tr>\n",
       "      <th>sadness</th>\n",
       "      <td>111</td>\n",
       "      <td>208</td>\n",
       "      <td>683</td>\n",
       "      <td>1002</td>\n",
       "    </tr>\n",
       "    <tr>\n",
       "      <th>surprise</th>\n",
       "      <td>150</td>\n",
       "      <td>281</td>\n",
       "      <td>1205</td>\n",
       "      <td>1636</td>\n",
       "    </tr>\n",
       "    <tr>\n",
       "      <th>All</th>\n",
       "      <td>1108</td>\n",
       "      <td>2610</td>\n",
       "      <td>9988</td>\n",
       "      <td>13706</td>\n",
       "    </tr>\n",
       "  </tbody>\n",
       "</table>\n",
       "</div>"
      ],
      "text/plain": [
       "         Sentiment                   \n",
       "Data           dev  test train    All\n",
       "Emotion                              \n",
       "anger          153   345  1109   1607\n",
       "disgust         22    68   271    361\n",
       "fear            40    50   268    358\n",
       "joy            163   402  1743   2308\n",
       "neutral        469  1256  4709   6434\n",
       "sadness        111   208   683   1002\n",
       "surprise       150   281  1205   1636\n",
       "All           1108  2610  9988  13706"
      ]
     },
     "execution_count": 19,
     "metadata": {},
     "output_type": "execute_result"
    }
   ],
   "source": [
    "# Print the number of emotions in each dataset\n",
    "pd.pivot_table(df, index=['Emotion'], columns=['Data'], values=['Sentiment'], aggfunc='count', margins=True)"
   ]
  },
  {
   "cell_type": "code",
   "execution_count": 20,
   "metadata": {},
   "outputs": [],
   "source": [
    "# delete mp4 files that are not in the dataframe\n",
    "def delete_mp4_files(df:pd.DataFrame):\n",
    "    \"\"\"\n",
    "        Delete the mp4 files that are not in the dataframe\n",
    "        df: dataframe\n",
    "    \"\"\"\n",
    "    # convert the filepath column to a list\n",
    "    videos_df = df['filepath'].tolist()\n",
    "\n",
    "    # Create a list of all the video files in the folder\n",
    "    all_video_files = glob.glob(folder_path + '/**/*.mp4', recursive=True)\n",
    "\n",
    "    # Create a list of the video files that are not in the dataframe\n",
    "    files_to_delete = [x for x in all_video_files if x not in videos_df]\n",
    "\n",
    "    # Delete the video files that are not in the dataframe\n",
    "    for file in files_to_delete:\n",
    "        os.remove(file)"
   ]
  },
  {
   "cell_type": "code",
   "execution_count": 12,
   "metadata": {},
   "outputs": [],
   "source": [
    "# delete mp4 files that are not in the dataframe\n",
    "delete_mp4_files(df)"
   ]
  },
  {
   "cell_type": "code",
   "execution_count": 34,
   "metadata": {},
   "outputs": [],
   "source": [
    "# rename all files in the folders to include dev, test, train in the filename\n",
    "def rename_files(df:pd.DataFrame):\n",
    "    \"\"\"\n",
    "        The dataset contain duplicate filenames. This function renames the files to include dev, test, train in the filename\n",
    "        df: dataframe\n",
    "    \"\"\"\n",
    "    # Loop through the dataframe\n",
    "    for index, row in df.iterrows():\n",
    "        # Check if the filename starts with train, dev or test if so, skip\n",
    "        if not row['filename'].startswith('train') and not row['filename'].startswith('dev') and not row['filename'].startswith('test'):\n",
    "            # Create the new filename\n",
    "            new_filename = row['Data'] + '_dia' + str(row['Dialogue_ID']) + '_utt' + str(row['Utterance_ID']) + '.mp4'\n",
    "            # Rename the file\n",
    "            os.rename(row['filepath'], folder_path + row['Data'] + '/mp4/' + new_filename)"
   ]
  },
  {
   "cell_type": "code",
   "execution_count": 35,
   "metadata": {},
   "outputs": [],
   "source": [
    "rename_files(df)"
   ]
  },
  {
   "cell_type": "markdown",
   "metadata": {},
   "source": [
    "Function to get the wav file paths"
   ]
  },
  {
   "cell_type": "code",
   "execution_count": 26,
   "metadata": {},
   "outputs": [],
   "source": [
    "def convert_mp4_to_wav(df:pd.DataFrame):\n",
    "    \"\"\"\n",
    "        Convert the videos to audio files using ffmpeg\n",
    "        df: dataframe\n",
    "    \"\"\"\n",
    "    # Convert the videos to audio files using ffmpeg\n",
    "    video_list = df['filepath'].tolist()\n",
    "\n",
    "    # Create a list of the audio files\n",
    "    audio_list = [x.replace('mp4', 'wav') for x in video_list]\n",
    "\n",
    "    # Create a list of the commands to be executed\n",
    "    commands = ['ffmpeg -i ' + video_list[i] + ' -ab 160k -ac 2 -ar 44100 -vn ' + audio_list[i] for i in range(len(video_list))]\n",
    "\n",
    "    # Execute the commands\n",
    "    for command in commands:\n",
    "        os.system(command)\n",
    "        # break\n",
    "\n",
    "    # Write the filepath of the audio files to the dataframe\n",
    "    df['wav_filepath'] = folder_path + df['Data'] + '/wav/' + df['filename'] + '.wav'\n",
    "\n",
    "    return df\n"
   ]
  },
  {
   "cell_type": "code",
   "execution_count": 27,
   "metadata": {},
   "outputs": [],
   "source": [
    "# Convert the videos to audio files using the function convert_mp4_to_wav\n",
    "# df = convert_mp4_to_wav(df)"
   ]
  },
  {
   "cell_type": "code",
   "execution_count": 29,
   "metadata": {},
   "outputs": [
    {
     "data": {
      "text/html": [
       "<div>\n",
       "<style scoped>\n",
       "    .dataframe tbody tr th:only-of-type {\n",
       "        vertical-align: middle;\n",
       "    }\n",
       "\n",
       "    .dataframe tbody tr th {\n",
       "        vertical-align: top;\n",
       "    }\n",
       "\n",
       "    .dataframe thead th {\n",
       "        text-align: right;\n",
       "    }\n",
       "</style>\n",
       "<table border=\"1\" class=\"dataframe\">\n",
       "  <thead>\n",
       "    <tr style=\"text-align: right;\">\n",
       "      <th></th>\n",
       "      <th>Sr No.</th>\n",
       "      <th>Utterance</th>\n",
       "      <th>Speaker</th>\n",
       "      <th>Emotion</th>\n",
       "      <th>Sentiment</th>\n",
       "      <th>Dialogue_ID</th>\n",
       "      <th>Utterance_ID</th>\n",
       "      <th>Season</th>\n",
       "      <th>Episode</th>\n",
       "      <th>StartTime</th>\n",
       "      <th>EndTime</th>\n",
       "      <th>Data</th>\n",
       "      <th>dataset</th>\n",
       "      <th>filename</th>\n",
       "      <th>filepath</th>\n",
       "    </tr>\n",
       "  </thead>\n",
       "  <tbody>\n",
       "  </tbody>\n",
       "</table>\n",
       "</div>"
      ],
      "text/plain": [
       "Empty DataFrame\n",
       "Columns: [Sr No., Utterance, Speaker, Emotion, Sentiment, Dialogue_ID, Utterance_ID, Season, Episode, StartTime, EndTime, Data, dataset, filename, filepath]\n",
       "Index: []"
      ]
     },
     "execution_count": 29,
     "metadata": {},
     "output_type": "execute_result"
    }
   ],
   "source": [
    "# Show duplicate filenames in the dataframe\n",
    "df[df.duplicated(['filename'], keep=False)].sort_values(by=['filename'])"
   ]
  },
  {
   "cell_type": "markdown",
   "metadata": {},
   "source": [
    "## Test MELD Dataframe result\n"
   ]
  },
  {
   "cell_type": "code",
   "execution_count": 30,
   "metadata": {},
   "outputs": [],
   "source": [
    "import unittest\n",
    "import sys\n",
    "from Test.Data.TestMELD import TestMELD"
   ]
  },
  {
   "cell_type": "code",
   "execution_count": 31,
   "metadata": {},
   "outputs": [],
   "source": [
    "# Pass the variables to the test class\n",
    "TestMELD.train_df = train_df\n",
    "TestMELD.dev_df = dev_df\n",
    "TestMELD.test_df = test_df\n",
    "TestMELD.df = df\n",
    "TestMELD.folder = folder_path\n",
    "\n",
    "# Create an instance of the test class\n",
    "test_class = TestMELD()"
   ]
  },
  {
   "cell_type": "code",
   "execution_count": 32,
   "metadata": {},
   "outputs": [
    {
     "name": "stderr",
     "output_type": "stream",
     "text": [
      "test_dev_df_columns (Test.Data.TestMELD.TestMELD.test_dev_df_columns) ... ok\n",
      "test_dev_df_not_empty (Test.Data.TestMELD.TestMELD.test_dev_df_not_empty) ... ok\n",
      "test_dev_df_rows (Test.Data.TestMELD.TestMELD.test_dev_df_rows) ... ok\n",
      "test_df_data (Test.Data.TestMELD.TestMELD.test_df_data) ... ok\n",
      "test_df_datatype (Test.Data.TestMELD.TestMELD.test_df_datatype) ... ok\n",
      "test_df_emotions (Test.Data.TestMELD.TestMELD.test_df_emotions) ... ok\n",
      "test_df_filename_duplicate (Test.Data.TestMELD.TestMELD.test_df_filename_duplicate) ... ok\n",
      "test_df_filename_unique (Test.Data.TestMELD.TestMELD.test_df_filename_unique) ... ok\n",
      "test_df_sentiments (Test.Data.TestMELD.TestMELD.test_df_sentiments) ... ok\n",
      "test_df_wav_rows (Test.Data.TestMELD.TestMELD.test_df_wav_rows) ... ok\n",
      "test_folder_path (Test.Data.TestMELD.TestMELD.test_folder_path) ... ok\n",
      "test_test_df_columns (Test.Data.TestMELD.TestMELD.test_test_df_columns) ... ok\n",
      "test_test_df_not_empty (Test.Data.TestMELD.TestMELD.test_test_df_not_empty) ... ok\n",
      "test_test_df_rows (Test.Data.TestMELD.TestMELD.test_test_df_rows) ... ok\n",
      "test_train_df_columns (Test.Data.TestMELD.TestMELD.test_train_df_columns) ... ok\n",
      "test_train_df_not_empty (Test.Data.TestMELD.TestMELD.test_train_df_not_empty) ... ok\n",
      "test_train_df_rows (Test.Data.TestMELD.TestMELD.test_train_df_rows) ... ok\n",
      "\n",
      "----------------------------------------------------------------------\n",
      "Ran 17 tests in 0.294s\n",
      "\n",
      "OK\n"
     ]
    },
    {
     "data": {
      "text/plain": [
       "<unittest.runner.TextTestResult run=17 errors=0 failures=0>"
      ]
     },
     "execution_count": 32,
     "metadata": {},
     "output_type": "execute_result"
    }
   ],
   "source": [
    "# Run the tests\n",
    "suite = unittest.TestLoader().loadTestsFromTestCase(TestMELD)\n",
    "unittest.TextTestRunner(verbosity=4,stream=sys.stderr).run(suite)"
   ]
  },
  {
   "cell_type": "markdown",
   "metadata": {},
   "source": [
    "All tests have passed therefore we can export to CSV with the confidence that all the data is in good shape"
   ]
  },
  {
   "cell_type": "code",
   "execution_count": 33,
   "metadata": {},
   "outputs": [],
   "source": [
    "export_filename = 'MELD_DF.csv'\n",
    "export_path = path.join(folder_path, export_filename)\n",
    "\n",
    "# Export to CSV\n",
    "df.to_csv(export_path, index=False)"
   ]
  }
 ],
 "metadata": {
  "kernelspec": {
   "display_name": "Python 3",
   "language": "python",
   "name": "python3"
  },
  "language_info": {
   "codemirror_mode": {
    "name": "ipython",
    "version": 3
   },
   "file_extension": ".py",
   "mimetype": "text/x-python",
   "name": "python",
   "nbconvert_exporter": "python",
   "pygments_lexer": "ipython3",
   "version": "3.11.4"
  }
 },
 "nbformat": 4,
 "nbformat_minor": 2
}
