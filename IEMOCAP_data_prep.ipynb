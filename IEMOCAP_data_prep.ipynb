{
 "cells": [
  {
   "cell_type": "markdown",
   "metadata": {},
   "source": [
    "# Libraries"
   ]
  },
  {
   "cell_type": "code",
   "execution_count": 1,
   "metadata": {},
   "outputs": [],
   "source": [
    "import os\n",
    "import glob\n",
    "import pandas as pd\n",
    "from collections import defaultdict"
   ]
  },
  {
   "cell_type": "code",
   "execution_count": 12,
   "metadata": {},
   "outputs": [],
   "source": [
    "# Folder path where the IEMOCAP is stored\n",
    "folder_path = r'Data/IEMOCAP'"
   ]
  },
  {
   "cell_type": "markdown",
   "metadata": {},
   "source": [
    "# Extract IEMOCAP values to a dictionary"
   ]
  },
  {
   "cell_type": "markdown",
   "metadata": {},
   "source": [
    "Function to extract the emotions for each file"
   ]
  },
  {
   "cell_type": "code",
   "execution_count": 3,
   "metadata": {},
   "outputs": [],
   "source": [
    "def get_emotions(root_folder:str):\n",
    "    \"\"\"\n",
    "        This function returns a dictionary of emotions for each utterance in the dataset.\n",
    "        root_folder: The root folder of the IEMOCAP dataset.\n",
    "        return: A dictionary of emotions for each utterance in the dataset.\n",
    "    \"\"\"\n",
    "    # initialise the emotions list\n",
    "    data = []\n",
    "    # get all the EmoEvaluation files\n",
    "    emo_pattern = os.path.join(root_folder, \"**\", \"EmoEvaluation\", \"*.txt\")\n",
    "    emo_files = glob.glob(emo_pattern, recursive=True)\n",
    "\n",
    "    # read the EmoEvaluation files and get the emotions\n",
    "    for filepath in emo_files:\n",
    "        with open(filepath) as f:\n",
    "            rows = [line.split('\\t')[1:3] for line in f if ']' in line]\n",
    "            data.extend([ele for ele in rows if ele != []])\n",
    "\n",
    "    emotions = {row[0]: row[1] for row in data}\n",
    "    \n",
    "    return emotions"
   ]
  },
  {
   "cell_type": "markdown",
   "metadata": {},
   "source": [
    "Function to get the transcriptions for each file"
   ]
  },
  {
   "cell_type": "code",
   "execution_count": 4,
   "metadata": {},
   "outputs": [],
   "source": [
    "def get_transcriptions(root_folder:str):\n",
    "    \"\"\"\n",
    "        This function is used to consolidate all the transcriptions from the IEMOCAP dataset\n",
    "        root_folder: path to the IEMOCAP dataset\n",
    "        returns: a dictionary with the filename as key and the transcription as value\n",
    "    \"\"\"\n",
    "    # initialise list to store the text transcriptions\n",
    "    data = []\n",
    "    transc_pattern = os.path.join(root_folder, \"**\", \"transcriptions\", \"*.txt\")\n",
    "    transc_files = glob.glob(transc_pattern, recursive=True)\n",
    "\n",
    "    # iterate over the transcription files and get the transcriptions\n",
    "    for filepath in transc_files:\n",
    "        # open the file and read the transcriptions\n",
    "        with open(filepath) as f:\n",
    "            # split the lines and get the filename and transcription\n",
    "            rows = [line.strip().split(':', 1) for line in f]\n",
    "            clean_row = [[filename.split(' ')[0], transcription.strip()] for filename, transcription in rows]\n",
    "            data.extend(clean_row)\n",
    "\n",
    "    transcriptions = {row[0]: row[1] for row in data}\n",
    "    return transcriptions"
   ]
  },
  {
   "cell_type": "markdown",
   "metadata": {},
   "source": [
    "Function to get the wav file paths"
   ]
  },
  {
   "cell_type": "code",
   "execution_count": 5,
   "metadata": {},
   "outputs": [],
   "source": [
    "def get_filepaths(root_folder:str):\n",
    "    \"\"\"\n",
    "        This function gets the filepaths from the IEMOCAP dataset\n",
    "        root_folder: path to the IEMOCAP dataset\n",
    "        returns: a dictionary with the filename as key and the filepath as value\n",
    "    \"\"\"\n",
    "\n",
    "    wav_pattern = os.path.join(root_folder, \"**\", \"sentences\", \"wav\", \"**\", \"*.wav\")\n",
    "    wav_files = glob.glob(wav_pattern, recursive=True)\n",
    "    \n",
    "    # Extract filename and create a list with filename, filepath\n",
    "    values = {os.path.basename(file).split('.')[0]: file for file in wav_files}\n",
    "\n",
    "    # trans_pattern = os.path.join(root_folder, \"**\", \"transcriptions\", \"*.txt\")\n",
    "    # trans_files = glob.glob(trans_pattern, recursive=True)\n",
    "\n",
    "    return values\n"
   ]
  },
  {
   "cell_type": "markdown",
   "metadata": {},
   "source": [
    "Function to merge the dictionaries for each of the bits based on the filename which will work as the keyname for the dictionary"
   ]
  },
  {
   "cell_type": "code",
   "execution_count": 6,
   "metadata": {},
   "outputs": [],
   "source": [
    "def merge_dicts(files:dict, emotions:dict, transcriptions:dict):\n",
    "    \"\"\"\n",
    "        This function merges the dictionaries of the files, emotions and transcriptions\n",
    "        files: dictionary of the files\n",
    "        emotions: dictionary of the emotions\n",
    "        transcription: dictionary of the transcriptions\n",
    "        returns: a dictionary with the filename as key and a list of the filepath, transcription and emotion as value\n",
    "    \"\"\"\n",
    "    dd = defaultdict(list)\n",
    "    # iterate over the dictionaries and merge them based on the filename\n",
    "    for dic in (files, emotions, transcriptions): \n",
    "        for key, value in dic.items():\n",
    "            dd[key].append(value)\n",
    "    return dd"
   ]
  },
  {
   "cell_type": "markdown",
   "metadata": {},
   "source": [
    "Create the dataframe that will be used in the project to find the right file locations, transacriptions, emotions etc"
   ]
  },
  {
   "cell_type": "code",
   "execution_count": 7,
   "metadata": {},
   "outputs": [],
   "source": [
    "def build_dataframe(merge_dicts:dict):\n",
    "\n",
    "    # Create dataframe from dictionary and rename columns\n",
    "    df = pd.DataFrame.from_dict(final, orient='index').reset_index()\n",
    "    df.columns = ['filename','filepath', 'emotion', 'transcription']\n",
    "    df['dataset'] = 'IEMOCAP'\n",
    "\n",
    "    # filter dataframe to only show rows where emotion is not null\n",
    "    df = df[df['emotion'].notnull()]\n",
    "\n",
    "    # map emotion label to a emotion label\n",
    "    mapping_val = {\n",
    "                    'hap': 'happy',\n",
    "                    'ang': 'angry',\n",
    "                    'sad': 'sad',\n",
    "                    'fru': 'frustrated',\n",
    "                    'neu': 'neutral',\n",
    "                    'exc': 'excited',\n",
    "                    'fea': 'fearful',\n",
    "                    'sur': 'surprised',\n",
    "                    'dis': 'disgusted', \n",
    "                    'cal': 'calm',\n",
    "                    'oth': 'other',\n",
    "                    'xxx': 'xxx'\n",
    "                }\n",
    "\n",
    "    # Create a new column with the emotion label\n",
    "    df['emotion_label'] = df['emotion'].map(mapping_val)\n",
    "\n",
    "    # Get the 5th character of the filename to produce the gender\n",
    "    df['gender'] = df['filename'].str[5]\n",
    "\n",
    "    # Extract the method from filename\n",
    "    df['method'] = df['filename'].str[7:13]\n",
    "\n",
    "    # Extract the session number from filename\n",
    "    df['session'] = df['filename'].str[3:5]\n",
    "\n",
    "    # Convert session to integer\n",
    "    df['session'] = df['session'].astype(int)\n",
    "\n",
    "    return df"
   ]
  },
  {
   "cell_type": "code",
   "execution_count": 19,
   "metadata": {},
   "outputs": [],
   "source": [
    "folder_path\n",
    "\n",
    "# assert folder_path exists and is a directory\n",
    "assert os.path.isdir(folder_path), \"Folder path does not exist\""
   ]
  },
  {
   "cell_type": "markdown",
   "metadata": {},
   "source": [
    "Get the information necessary to build the dataframe"
   ]
  },
  {
   "cell_type": "code",
   "execution_count": 20,
   "metadata": {},
   "outputs": [
    {
     "name": "stdout",
     "output_type": "stream",
     "text": [
      "Data/IEMOCAP/Session1/sentences/wav/Ses01M_script01_1/Ses01M_script01_1_F000.wav\n",
      "What he's going to say?\n",
      "fru\n"
     ]
    }
   ],
   "source": [
    "files = get_filepaths(folder_path)\n",
    "print(files['Ses01M_script01_1_F000'])\n",
    "\n",
    "transcriptions = get_transcriptions(folder_path)\n",
    "print(transcriptions['Ses01M_script01_1_F000'])\n",
    "\n",
    "emotions = get_emotions(folder_path)\n",
    "print(emotions['Ses01M_script01_1_F000'])"
   ]
  },
  {
   "cell_type": "code",
   "execution_count": 21,
   "metadata": {},
   "outputs": [],
   "source": [
    "# merge dictionaries\n",
    "final = merge_dicts(files, emotions, transcriptions)\n",
    "\n",
    "df = build_dataframe(final)"
   ]
  },
  {
   "cell_type": "markdown",
   "metadata": {},
   "source": [
    "Export the results to a csv file to be used later in the project"
   ]
  },
  {
   "cell_type": "markdown",
   "metadata": {},
   "source": [
    "## IEMOCAP Testing"
   ]
  },
  {
   "cell_type": "code",
   "execution_count": 31,
   "metadata": {},
   "outputs": [],
   "source": [
    "import unittest\n",
    "import sys\n",
    "from Test.Data.TestIEMOCAP import TestIEMOCAP"
   ]
  },
  {
   "cell_type": "code",
   "execution_count": 32,
   "metadata": {},
   "outputs": [],
   "source": [
    "# Pass the variables to the test class\n",
    "TestIEMOCAP.df = df\n",
    "TestIEMOCAP.folder = folder_path\n",
    "TestIEMOCAP.files = files\n",
    "TestIEMOCAP.emotions = emotions\n",
    "TestIEMOCAP.transcriptions = transcriptions\n",
    "\n",
    "# Create an instance of the test class\n",
    "test_class = TestIEMOCAP()"
   ]
  },
  {
   "cell_type": "code",
   "execution_count": 34,
   "metadata": {},
   "outputs": [
    {
     "name": "stderr",
     "output_type": "stream",
     "text": [
      "test_columns_datatypes (Test.Data.TestIEMOCAP.TestIEMOCAP.test_columns_datatypes) ... ok\n",
      "test_df_shape (Test.Data.TestIEMOCAP.TestIEMOCAP.test_df_shape) ... ok\n",
      "test_emotion_length (Test.Data.TestIEMOCAP.TestIEMOCAP.test_emotion_length) ... ok\n",
      "test_folder_path (Test.Data.TestIEMOCAP.TestIEMOCAP.test_folder_path) ... ok\n",
      "test_gender_length (Test.Data.TestIEMOCAP.TestIEMOCAP.test_gender_length) ... ok\n",
      "test_is_dataframe (Test.Data.TestIEMOCAP.TestIEMOCAP.test_is_dataframe) ... ok\n",
      "test_length (Test.Data.TestIEMOCAP.TestIEMOCAP.test_length) ... ok\n",
      "test_method_length (Test.Data.TestIEMOCAP.TestIEMOCAP.test_method_length) ... ok\n",
      "test_null_values (Test.Data.TestIEMOCAP.TestIEMOCAP.test_null_values) ... ok\n",
      "test_session_length (Test.Data.TestIEMOCAP.TestIEMOCAP.test_session_length) ... ok\n",
      "\n",
      "----------------------------------------------------------------------\n",
      "Ran 10 tests in 0.045s\n",
      "\n",
      "OK\n"
     ]
    },
    {
     "data": {
      "text/plain": [
       "<unittest.runner.TextTestResult run=10 errors=0 failures=0>"
      ]
     },
     "execution_count": 34,
     "metadata": {},
     "output_type": "execute_result"
    }
   ],
   "source": [
    "# Run the tests\n",
    "suite = unittest.TestLoader().loadTestsFromTestCase(TestIEMOCAP)\n",
    "unittest.TextTestRunner(verbosity=4,stream=sys.stderr).run(suite)"
   ]
  },
  {
   "cell_type": "markdown",
   "metadata": {},
   "source": [
    "### Export to CSV"
   ]
  },
  {
   "cell_type": "code",
   "execution_count": 35,
   "metadata": {},
   "outputs": [],
   "source": [
    "df.to_csv('Data/IEMOCAP/IEMOCAP_DF.csv', index=False)\n",
    "\n",
    "export_filename = 'IEMOCAP_DF.csv'\n",
    "export_path = os.path.join(folder_path, export_filename)\n",
    "\n",
    "# Export to CSV\n",
    "df.to_csv(export_path, index=False)\n"
   ]
  },
  {
   "cell_type": "code",
   "execution_count": null,
   "metadata": {},
   "outputs": [],
   "source": []
  }
 ],
 "metadata": {
  "kernelspec": {
   "display_name": "Python 3",
   "language": "python",
   "name": "python3"
  },
  "language_info": {
   "codemirror_mode": {
    "name": "ipython",
    "version": 3
   },
   "file_extension": ".py",
   "mimetype": "text/x-python",
   "name": "python",
   "nbconvert_exporter": "python",
   "pygments_lexer": "ipython3",
   "version": "3.11.4"
  }
 },
 "nbformat": 4,
 "nbformat_minor": 2
}
